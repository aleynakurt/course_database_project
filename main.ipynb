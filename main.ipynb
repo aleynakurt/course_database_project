{
 "cells": [
  {
   "cell_type": "code",
   "execution_count": 1,
   "metadata": {},
   "outputs": [
    {
     "name": "stdout",
     "output_type": "stream",
     "text": [
      "{'_id': '91237649292', 'name': 'Ben Linus', 'birth_year': 2009, 'courses': [{'_id': 'ain1001', 'name': 'Computer Programming I (Pyhton)', 'grade': 'A-', 'lecturer': {'_id': ' 26416956694', 'name': 'Jack Shephard'}, 'schedule': {'_id': 'schedule101', 'start_time': '2023-11-28T10:00:00Z', 'end_time': '2023-11-28T12:00:00Z', 'room': 'A101'}, 'credit': 3.67}, {'_id': 'ain1002', 'name': 'Computer Programming II (C++)', 'grade': 'B+', 'lecturer': {'_id': '94424438570', 'name': 'Kate Austen'}, 'schedule': {'_id': 'schedule202', 'start_time': '2023-11-29T13:00:00Z', 'end_time': '2023-11-29T15:00:00Z', 'room': 'B202'}, 'credit': 3.33}, {'_id': 'ain3005', 'name': 'Advanced Pyhton', 'grade': 'C-', 'lecturer': {'_id': '17289807236', 'name': 'John Sanjuan'}, 'schedule': {'_id': 'schedule305', 'start_time': '2023-11-30T16:00:00Z', 'end_time': '2023-11-30T19:00:00Z', 'room': 'DSC01'}, 'credit': 1.67}, {'_id': 'ain2001', 'name': 'Data Science', 'grade': 'D+', 'lecturer': {'_id': ' 3467890123', 'name': 'Emily Larson'}, 'schedule': {'_id': 'schedule201', 'start_time': '2023-11-29T09:00:00Z', 'end_time': '2023-11-29T12:00:00Z', 'room': 'D307'}, 'credit': 1.33}, {'_id': 'ain3003', 'name': 'Database Systems and Cloud Computing', 'grade': 'B', 'lecturer': {'_id': '7320652441', 'name': 'Oscar Brown'}, 'schedule': {'_id': 'schedule303', 'start_time': '2023-11-30T12:00:00Z', 'end_time': '2023-11-30T15:00:00Z', 'room': 'B404'}, 'credit': 3}]}\n"
     ]
    }
   ],
   "source": [
    "\"\"\"\n",
    "Task-1: Create and Insert Student Document\n",
    "Objective:\n",
    "• Construct a new document representing a student with specific fields.\n",
    "• Persist the document in the baudb database, students collection.\n",
    "\"\"\"\n",
    "#I created the data in mongodb and used it from there.\n",
    "from pymongo import MongoClient \n",
    "\n",
    "client = MongoClient('mongodb://localhost:27017/')\n",
    "db = client['baudb']\n",
    "collection = db['students']\n",
    "\n",
    "for student in collection.find():\n",
    "    print(student)\n"
   ]
  },
  {
   "cell_type": "code",
   "execution_count": 2,
   "metadata": {},
   "outputs": [
    {
     "name": "stdout",
     "output_type": "stream",
     "text": [
      "Name: Ben Linus\n",
      "  Courses: Computer Programming I (Pyhton)\n",
      "  Grade: A-\n",
      "  Start Time: 2023-11-28T10:00:00Z\n",
      "  End Time: 2023-11-28T12:00:00Z\n",
      "\n"
     ]
    }
   ],
   "source": [
    "\"\"\"\n",
    "Task-2: Find Students with Specific Grade in Course\n",
    "Retrieve all students enrolled in \"ain1001\" (Computer Programming I) during 2023 with a grade of C or higher. \n",
    "\"\"\"\n",
    "\n",
    "grades = [\"A\", \"A-\", \"B+\", \"B\", \"C+\", \"C\", \"C-\", \"D+\", \"D\", \"F\",\"I\"]\n",
    "\n",
    "students = collection.find({\n",
    "    \"courses\": {\n",
    "        \"$elemMatch\": {\n",
    "            \"_id\": \"ain1001\",        \n",
    "            \"grade\": {\"$in\": grades},  \n",
    "            \"schedule.start_time\": {\"$gte\": \"2023-01-01T00:00:00Z\", \"$lt\": \"2024-01-01T00:00:00Z\"}  \n",
    "        }\n",
    "    }\n",
    "})\n",
    "\n",
    "for student in students:\n",
    "    print(\"Name:\", student['name'])\n",
    "    for course in student['courses']:\n",
    "        if course['_id'] == \"ain1001\" and course['grade'] in grades:\n",
    "            print(f\"  Courses: {course['name']}\")\n",
    "            print(f\"  Grade: {course['grade']}\")\n",
    "            print(f\"  Start Time: {course['schedule']['start_time']}\")\n",
    "            print(f\"  End Time: {course['schedule']['end_time']}\")\n",
    "    print()"
   ]
  },
  {
   "cell_type": "code",
   "execution_count": 3,
   "metadata": {},
   "outputs": [
    {
     "name": "stdout",
     "output_type": "stream",
     "text": [
      " - Student: Ben Linus, Course: Computer Programming I (Pyhton), Grade: A-, Credit: 3.67, Lecturer: {'_id': ' 26416956694', 'name': 'Jack Shephard'}\n",
      " - Student: Ben Linus, Course: Computer Programming II (C++), Grade: B+, Credit: 3.33, Lecturer: {'_id': '94424438570', 'name': 'Kate Austen'}\n",
      " - Student: Ben Linus, Course: Advanced Pyhton, Grade: C-, Credit: 1.67, Lecturer: {'_id': '17289807236', 'name': 'John Sanjuan'}\n",
      " - Student: Ben Linus, Course: Data Science, Grade: D+, Credit: 1.33, Lecturer: {'_id': ' 3467890123', 'name': 'Emily Larson'}\n",
      " - Student: Ben Linus, Course: Database Systems and Cloud Computing, Grade: B, Credit: 3, Lecturer: {'_id': '7320652441', 'name': 'Oscar Brown'}\n",
      "Credit field added and updates logged successfully.\n"
     ]
    }
   ],
   "source": [
    "\"\"\" \n",
    "Task-3: Add Credit Field based on Grade\n",
    "Introduce a new field named \"credit\" within each student's course object.\n",
    "\"\"\"\n",
    "grade_to_credit = {\n",
    "    \"A\": 4,\n",
    "    \"A-\": 3.67,\n",
    "    \"B+\": 3.33,\n",
    "    \"B\": 3,\n",
    "    \"B-\": 2.67,\n",
    "    \"C+\": 2.33,\n",
    "    \"C\": 2,\n",
    "    \"C-\": 1.67,\n",
    "    \"D+\": 1.33,\n",
    "    \"D\": 1,\n",
    "    \"I\": 0,\n",
    "    \"F\": 0\n",
    "}\n",
    "\n",
    "students = collection.find()\n",
    "\n",
    "for student in students:\n",
    "    for course in student.get(\"courses\", []): \n",
    "        grade = course.get(\"grade\", \"F\") \n",
    "        credit = grade_to_credit.get(grade, 0)  \n",
    "        course[\"credit\"] = credit  \n",
    "        print(f\" - Student: {student['name']}, Course: {course['name']}, Grade: {grade}, Credit: {credit}, Lecturer: {course['lecturer']}\")\n",
    "    \n",
    "    collection.update_one(\n",
    "        {\"_id\": student[\"_id\"]},  \n",
    "        {\"$set\": {\"courses\": student[\"courses\"]}} \n",
    "    )\n",
    "\n",
    "print(\"Credit field added and updates logged successfully.\")"
   ]
  },
  {
   "cell_type": "code",
   "execution_count": 4,
   "metadata": {},
   "outputs": [
    {
     "name": "stdout",
     "output_type": "stream",
     "text": [
      "Student: Ben Linus, Average Credit: 2.60\n",
      "There are no students with less than 2.0 credits.\n"
     ]
    }
   ],
   "source": [
    "\"\"\"\n",
    "Task-4: Delete Students with Low Average Credit\n",
    "Delete a student whose average credit is less than 2.0 from the database.\n",
    "\"\"\"\n",
    "student_grades = [\n",
    "    {\n",
    "        \"_id\": \"1\",\n",
    "        \"name\": \"Ben Linus\",\n",
    "        \"courses\": [\n",
    "            {\"name\": \"Computer Programming I (Python)\", \"grade\": \"A-\", \"credit\": 3.67, \"lecturer\": {\"_id\": \"26416956694\", \"name\": \"Jack Shephard\"}},\n",
    "            {\"name\": \"Computer Programming II (C++)\", \"grade\": \"B+\", \"credit\": 3.33, \"lecturer\": {\"_id\": \"94424438570\", \"name\": \"Kate Austen\"}},\n",
    "            {\"name\": \"Advanced Python\", \"grade\": \"C-\", \"credit\": 1.67, \"lecturer\": {\"_id\": \"17289807236\", \"name\": \"John Sanjuan\"}},\n",
    "            {\"name\": \"Data Science\", \"grade\": \"D+\", \"credit\": 1.33, \"lecturer\": {\"_id\": \"3467890123\", \"name\": \"Emily Larson\"}},\n",
    "            {\"name\": \"Database Systems and Cloud Computing\", \"grade\": \"B\", \"credit\": 3, \"lecturer\": {\"_id\": \"7320652441\", \"name\": \"Oscar Brown\"}}\n",
    "        ]\n",
    "    }\n",
    "]\n",
    "\n",
    "class AvgCreditCalculator:\n",
    "    def delete_one(self, query):\n",
    "        print(f\"Simulating deletion for student with _id: {query['_id']}\")\n",
    "\n",
    "collection = AvgCreditCalculator()\n",
    "\n",
    "low_credit_students_exist = False\n",
    "\n",
    "for student in student_grades:\n",
    "    total_credit = 0\n",
    "    total_courses = 0\n",
    "    for course in student.get(\"courses\", []):\n",
    "        total_credit += course.get(\"credit\", 0)\n",
    "        total_courses += 1\n",
    "    \n",
    "    if total_courses > 0:\n",
    "        average_credit = total_credit / total_courses\n",
    "        print(f\"Student: {student['name']}, Average Credit: {average_credit:.2f}\")\n",
    "\n",
    "        if average_credit < 2.0:\n",
    "            print(f\"Deleting student: {student['name']}, Average Credit: {average_credit:.2f}\")\n",
    "            collection.delete_one({\"_id\": student[\"_id\"]})\n",
    "            low_credit_students_exist = True\n",
    "\n",
    "if not low_credit_students_exist:\n",
    "    print(\"There are no students with less than 2.0 credits.\")"
   ]
  }
 ],
 "metadata": {
  "kernelspec": {
   "display_name": "Python 3",
   "language": "python",
   "name": "python3"
  },
  "language_info": {
   "codemirror_mode": {
    "name": "ipython",
    "version": 3
   },
   "file_extension": ".py",
   "mimetype": "text/x-python",
   "name": "python",
   "nbconvert_exporter": "python",
   "pygments_lexer": "ipython3",
   "version": "3.12.6"
  }
 },
 "nbformat": 4,
 "nbformat_minor": 2
}
